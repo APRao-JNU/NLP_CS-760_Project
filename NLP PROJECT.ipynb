{
 "cells": [
  {
   "cell_type": "markdown",
   "id": "9273dddc",
   "metadata": {},
   "source": [
    "# Name : Anand Prakash Raw\n",
    "## Project : Audio Language Conversion Using Text Extraction (Eng to Hi)\n",
    "## Subject : (CS-760) Natural Language Processing"
   ]
  },
  {
   "cell_type": "markdown",
   "id": "040bca88",
   "metadata": {},
   "source": [
    "### Steps Performed:\n",
    "###    1) Extracting Text from Audio file.\n",
    "###    2) Translating the text to other language.\n",
    " ###   3) Coverting the text back to audio file in that language."
   ]
  },
  {
   "cell_type": "markdown",
   "id": "e5b5d6c2",
   "metadata": {},
   "source": [
    "# STEP 1\n",
    "### Assembly AI API used for this purpose"
   ]
  },
  {
   "cell_type": "code",
   "execution_count": 1,
   "id": "828c6d05",
   "metadata": {},
   "outputs": [
    {
     "name": "stdout",
     "output_type": "stream",
     "text": [
      "Enter any audio file =JNU.mp3\n",
      "JNU.mp3\n",
      "Uploading file: JNU.mp3\n",
      "Transcribing audio... This might take a moment.\n"
     ]
    }
   ],
   "source": [
    "import requests\n",
    "import json\n",
    "import time\n",
    "\n",
    "def read_file(filename, chunk_size=5242880):\n",
    "    # Open the file in binary mode for reading\n",
    "    with open(filename, 'rb') as _file:\n",
    "        while True:\n",
    "            # Read a chunk of data from the file\n",
    "            data = _file.read(chunk_size)\n",
    "            # If there's no more data, stop reading\n",
    "            if not data:\n",
    "                break\n",
    "            # Yield the data as a generator\n",
    "            yield data\n",
    "\n",
    "def upload_file(api_token, path):\n",
    "    \"\"\"\n",
    "    Upload a file to the AssemblyAI API.\n",
    "\n",
    "    Args:\n",
    "        api_token (str): Your API token for AssemblyAI.\n",
    "        path (str): Path to the local file.\n",
    "\n",
    "    Returns:\n",
    "        str: The upload URL.\n",
    "    \"\"\"\n",
    "    print(f\"Uploading file: {path}\")\n",
    "\n",
    "    # Set the headers for the request, including the API token\n",
    "    headers = {'authorization': api_token}\n",
    "    \n",
    "    # Send a POST request to the API to upload the file, passing in the headers\n",
    "    # and the file data\n",
    "    response = requests.post('https://api.assemblyai.com/v2/upload',\n",
    "                             headers=headers,\n",
    "                             data=read_file(path))\n",
    "\n",
    "    # If the response is successful, return the upload URL\n",
    "    if response.status_code == 200:\n",
    "        return response.json()[\"upload_url\"]\n",
    "    # If the response is not successful, print the error message and return\n",
    "    # None\n",
    "    else:\n",
    "        print(f\"Error: {response.status_code} - {response.text}\")\n",
    "        return None\n",
    "\n",
    "def create_transcript(api_token, audio_url):\n",
    "    \"\"\"\n",
    "    Create a transcript using AssemblyAI API.\n",
    "\n",
    "    Args:\n",
    "        api_token (str): Your API token for AssemblyAI.\n",
    "        audio_url (str): URL of the audio file to be transcribed.\n",
    "\n",
    "    Returns:\n",
    "        dict: Completed transcript object.\n",
    "    \"\"\"\n",
    "    print(\"Transcribing audio... This might take a moment.\")\n",
    "\n",
    "    # Set the API endpoint for creating a new transcript\n",
    "    url = \"https://api.assemblyai.com/v2/transcript\"\n",
    "\n",
    "    # Set the headers for the request, including the API token and content type\n",
    "    headers = {\n",
    "        \"authorization\": api_token,\n",
    "        \"content-type\": \"application/json\"\n",
    "    }\n",
    "\n",
    "    # Set the data for the request, including the URL of the audio file to be\n",
    "    # transcribed\n",
    "    data = {\n",
    "        \"audio_url\": audio_url\n",
    "    }\n",
    "\n",
    "    # Send a POST request to the API to create a new transcript, passing in the\n",
    "    # headers and data\n",
    "    response = requests.post(url, json=data, headers=headers)\n",
    "\n",
    "    # Get the transcript ID from the response JSON data\n",
    "    transcript_id = response.json()['id']\n",
    "\n",
    "    # Set the polling endpoint URL by appending the transcript ID to the API endpoint\n",
    "    polling_endpoint = f\"https://api.assemblyai.com/v2/transcript/{transcript_id}\"\n",
    "\n",
    "    # Keep polling the API until the transcription is complete\n",
    "    while True:\n",
    "        # Send a GET request to the polling endpoint, passing in the headers\n",
    "        transcription_result = requests.get(polling_endpoint, headers=headers).json()\n",
    "\n",
    "        # If the status of the transcription is 'completed', exit the loop\n",
    "        if transcription_result['status'] == 'completed':\n",
    "            break\n",
    "\n",
    "        # If the status of the transcription is 'error', raise a runtime error with\n",
    "        # the error message\n",
    "        elif transcription_result['status'] == 'error':\n",
    "            raise RuntimeError(f\"Transcription failed: {transcription_result['error']}\")\n",
    "\n",
    "        # If the status of the transcription is not 'completed' or 'error', wait for\n",
    "        # 3 seconds and poll again\n",
    "        else:\n",
    "            time.sleep(3)\n",
    "\n",
    "    return transcription_result\n",
    "\n",
    "# Your API token is already set in this variable\n",
    "your_api_token = \"a9795c76afbb482595441db6f2b86c26\"\n",
    "\n",
    "# -----------------------------------------------------------------------------\n",
    "# Update the file path here, pointing to a local audio or video file.\n",
    "# If you don't have one, download a sample file: https://storage.googleapis.com/aai-web-samples/espn-bears.m4a\n",
    "# You may also remove the upload step and update the 'audio_url' parameter in the\n",
    "# 'create_transcript' function to point to a remote audio or video file.\n",
    "# -----------------------------------------------------------------------------\n",
    "filename = input(\"Enter any audio file =\")\n",
    "print(filename)\n",
    "\n",
    "# Upload the file to AssemblyAI and get the upload URL\n",
    "upload_url = upload_file(your_api_token, filename)\n",
    "\n",
    "# Transcribe the audio file using the upload URL\n",
    "transcript = create_transcript(your_api_token, upload_url)\n",
    "\n",
    "# Print the completed transcript object\n",
    "# print(transcript)"
   ]
  },
  {
   "cell_type": "code",
   "execution_count": 2,
   "id": "1b358886",
   "metadata": {},
   "outputs": [
    {
     "data": {
      "text/plain": [
       "dict"
      ]
     },
     "execution_count": 2,
     "metadata": {},
     "output_type": "execute_result"
    }
   ],
   "source": [
    "type(transcript)"
   ]
  },
  {
   "cell_type": "code",
   "execution_count": 3,
   "id": "d4d74d1f",
   "metadata": {},
   "outputs": [],
   "source": [
    "output_text=transcript.get('text')"
   ]
  },
  {
   "cell_type": "code",
   "execution_count": 4,
   "id": "73950952",
   "metadata": {},
   "outputs": [
    {
     "name": "stdout",
     "output_type": "stream",
     "text": [
      "Jawaharlal Nehru University. JNU is a renowned academic institution located in New Delhi, India. Named after India's first prime minister, Jawaharlal Nehru, the university was established in 1969 and has since emerged as a symbol of intellectual excellence and academic freedom. JNU is known for its vibrant and inclusive campus where students from diverse backgrounds come together to engage in rigorous academic pursuits. The university offers a wide range of undergraduate, postgraduate and doctoral programs across various disciplines, including social sciences, humanities, sciences and languages. JNU has a strong emphasis on research and encourages critical thinking and independent thought among its students. The university's faculty comprises distinguished scholars and experts who are actively involved in pushing the boundaries of knowledge through their research and publications. Apart from academics, JNU is also renowned for its vibrant student politics and activism, with students actively participating in debates, discussions and protests on social, political and cultural issues. JNU's commitment to academic excellence, intellectual disc force and social justice has made it a prominent institution in India's higher education landscape.\n"
     ]
    }
   ],
   "source": [
    "print(output_text)"
   ]
  },
  {
   "cell_type": "markdown",
   "id": "fd03d5fe",
   "metadata": {},
   "source": [
    "# STEP 2\n",
    "\n",
    "### googletrans library used for translation."
   ]
  },
  {
   "cell_type": "code",
   "execution_count": 5,
   "id": "322bd095",
   "metadata": {},
   "outputs": [
    {
     "data": {
      "text/plain": [
       "str"
      ]
     },
     "execution_count": 5,
     "metadata": {},
     "output_type": "execute_result"
    }
   ],
   "source": [
    "type(output_text)"
   ]
  },
  {
   "cell_type": "code",
   "execution_count": 6,
   "id": "1567355f",
   "metadata": {},
   "outputs": [
    {
     "name": "stdout",
     "output_type": "stream",
     "text": [
      "जवाहरलाल नेहरू विश्वविद्यालय।JNU नई दिल्ली, भारत में स्थित एक प्रसिद्ध शैक्षणिक संस्थान है।भारत के पहले प्रधान मंत्री, जवाहरलाल नेहरू के नाम पर, विश्वविद्यालय 1969 में स्थापित किया गया था और तब से बौद्धिक उत्कृष्टता और शैक्षणिक स्वतंत्रता के प्रतीक के रूप में उभरा है।जेएनयू अपने जीवंत और समावेशी परिसर के लिए जाना जाता है, जहां विविध पृष्ठभूमि के छात्र कठोर शैक्षणिक गतिविधियों में संलग्न होने के लिए एक साथ आते हैं।विश्वविद्यालय सामाजिक विज्ञान, मानविकी, विज्ञान और भाषाओं सहित विभिन्न विषयों में स्नातक, स्नातकोत्तर और डॉक्टरेट कार्यक्रमों की एक विस्तृत श्रृंखला प्रदान करता है।जेएनयू ने अनुसंधान पर एक मजबूत जोर दिया है और अपने छात्रों के बीच महत्वपूर्ण सोच और स्वतंत्र विचार को प्रोत्साहित करता है।विश्वविद्यालय के संकाय में प्रतिष्ठित विद्वान और विशेषज्ञ शामिल हैं जो अपने शोध और प्रकाशनों के माध्यम से ज्ञान की सीमाओं को आगे बढ़ाने में सक्रिय रूप से शामिल हैं।शिक्षाविदों के अलावा, जेएनयू अपनी जीवंत छात्र राजनीति और सक्रियता के लिए भी प्रसिद्ध है, छात्रों ने सामाजिक, राजनीतिक और सांस्कृतिक मुद्दों पर बहस, चर्चा और विरोध प्रदर्शनों में सक्रिय रूप से भाग लिया है।शैक्षणिक उत्कृष्टता, बौद्धिक डिस्क बल और सामाजिक न्याय के लिए जेएनयू की प्रतिबद्धता ने इसे भारत के उच्च शिक्षा परिदृश्य में एक प्रमुख संस्था बना दिया है।\n"
     ]
    }
   ],
   "source": [
    "from googletrans import Translator\n",
    "\n",
    "def translate_to_hindi(text):\n",
    "    translator = Translator(service_urls=['translate.google.com'])\n",
    "    translated = translator.translate(text, dest='hi')\n",
    "    return translated.text\n",
    "\n",
    "s1 = json.dumps(output_text)\n",
    "d2 = json.loads(s1)\n",
    "\n",
    "# Example usage\n",
    "english_text = d2\n",
    "hindi_text = translate_to_hindi(english_text)\n",
    "print(hindi_text)\n"
   ]
  },
  {
   "cell_type": "markdown",
   "id": "40a2127c",
   "metadata": {},
   "source": [
    "# STEP 3\n",
    "\n",
    "### GTTS library used for converting the translated text back to audio."
   ]
  },
  {
   "cell_type": "code",
   "execution_count": 7,
   "id": "2fb7c8e7",
   "metadata": {},
   "outputs": [
    {
     "name": "stderr",
     "output_type": "stream",
     "text": [
      "sh: 1: output.mp3: not found\n"
     ]
    }
   ],
   "source": [
    "from gtts import gTTS\n",
    "import os\n",
    "\n",
    "def text_to_speech(text, output_file):\n",
    "    tts = gTTS(text, lang='hi')\n",
    "    tts.save(output_file)\n",
    "    os.system(output_file)\n",
    "\n",
    "# Example usage\n",
    "output_filename = \"output.mp3\"\n",
    "text_to_speech(hindi_text, output_filename)"
   ]
  },
  {
   "cell_type": "markdown",
   "id": "e3e55385",
   "metadata": {},
   "source": [
    "# STEP 4\n",
    "\n",
    "### pygame and tkinter used for creating play and pause buttons"
   ]
  },
  {
   "cell_type": "code",
   "execution_count": 8,
   "id": "9e965c8a",
   "metadata": {},
   "outputs": [
    {
     "name": "stdout",
     "output_type": "stream",
     "text": [
      "pygame 2.4.0 (SDL 2.26.4, Python 3.10.6)\n",
      "Hello from the pygame community. https://www.pygame.org/contribute.html\n"
     ]
    }
   ],
   "source": [
    "import pygame\n",
    "import tkinter as tk\n",
    "from tkinter import ttk\n",
    "\n",
    "def play_audio():\n",
    "    pygame.mixer.music.play()\n",
    "\n",
    "def pause_audio():\n",
    "    pygame.mixer.music.pause()\n",
    "\n",
    "# Initialize pygame\n",
    "pygame.mixer.init()\n",
    "\n",
    "# Create GUI window\n",
    "root = tk.Tk()\n",
    "root.title(\"Audio Player\")\n",
    "\n",
    "# Create play button\n",
    "play_button = ttk.Button(root, text=\"Play\", command=play_audio)\n",
    "play_button.pack()\n",
    "\n",
    "# Create pause button\n",
    "pause_button = ttk.Button(root, text=\"Pause\", command=pause_audio)\n",
    "pause_button.pack()\n",
    "\n",
    "# Load audio file\n",
    "file_path = 'output.mp3'  # Replace with the path to your audio file\n",
    "pygame.mixer.music.load(file_path)\n",
    "\n",
    "# Start GUI event loop\n",
    "root.mainloop()\n",
    "\n"
   ]
  },
  {
   "cell_type": "code",
   "execution_count": null,
   "id": "b0e44538",
   "metadata": {},
   "outputs": [],
   "source": []
  }
 ],
 "metadata": {
  "kernelspec": {
   "display_name": "Python 3 (ipykernel)",
   "language": "python",
   "name": "python3"
  },
  "language_info": {
   "codemirror_mode": {
    "name": "ipython",
    "version": 3
   },
   "file_extension": ".py",
   "mimetype": "text/x-python",
   "name": "python",
   "nbconvert_exporter": "python",
   "pygments_lexer": "ipython3",
   "version": "3.10.6"
  }
 },
 "nbformat": 4,
 "nbformat_minor": 5
}
